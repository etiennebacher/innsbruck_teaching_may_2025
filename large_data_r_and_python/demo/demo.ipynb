{
 "cells": [
  {
   "cell_type": "code",
   "execution_count": null,
   "metadata": {},
   "outputs": [],
   "source": [
    "import polars as pl"
   ]
  },
  {
   "cell_type": "code",
   "execution_count": null,
   "metadata": {},
   "outputs": [],
   "source": [
    "ipums = pl.scan_parquet(\"data_ipums/ipums_samples.parquet\")\n",
    "print(ipums)\n",
    "print(ipums.collect_schema())"
   ]
  },
  {
   "cell_type": "code",
   "execution_count": null,
   "metadata": {},
   "outputs": [],
   "source": [
    "ipums_small = ipums.head(100).collect()\n",
    "ipums_small"
   ]
  },
  {
   "cell_type": "code",
   "execution_count": null,
   "metadata": {},
   "outputs": [],
   "source": [
    "# ipums_alabama = (\n",
    "#     ipums.filter(pl.col(\"STATEFIP\") == 1)\n",
    "#     .sort(pl.col(\"COUNTYNHG\"))\n",
    "#     .with_columns(mean_occscore=pl.col(\"OCCSCORE\").mean())\n",
    "#     .collect()\n",
    "# )\n",
    "# ipums_alabama\n",
    "\n",
    "\n",
    "ipums_alabama = ipums.filter(pl.col(\"STATEFIP\") == 1)\n",
    "\n",
    "ipums_alabama_with_mean_occscore = ipums_alabama.with_columns(\n",
    "    mean_occscore=pl.col(\"OCCSCORE\").mean()\n",
    ")\n",
    "\n",
    "ipums_alabama_with_mean_occscore.collect()\n"
   ]
  },
  {
   "cell_type": "code",
   "execution_count": null,
   "metadata": {},
   "outputs": [],
   "source": [
    "ipums.group_by(\"STATEFIP\", \"YEAR\", maintain_order=True).agg(\n",
    "    mean_occscore=pl.col(\"OCCSCORE\").mean()\n",
    ").collect()"
   ]
  },
  {
   "cell_type": "code",
   "execution_count": null,
   "metadata": {},
   "outputs": [],
   "source": [
    "ipums.collect()"
   ]
  },
  {
   "cell_type": "code",
   "execution_count": null,
   "metadata": {},
   "outputs": [],
   "source": [
    "with_text = ipums.select(text=pl.lit(\"Etienne\")).collect()\n",
    "with_text"
   ]
  },
  {
   "cell_type": "code",
   "execution_count": null,
   "metadata": {},
   "outputs": [],
   "source": [
    "with_text.with_columns(contains_e=pl.col(\"text\").str.to_uppercase().str.contains(\"E\"))"
   ]
  },
  {
   "cell_type": "code",
   "execution_count": null,
   "metadata": {},
   "outputs": [],
   "source": [
    "# Need separate with_columns() statements if we create several variables that\n",
    "# depend on each other\n",
    "ipums.group_by(\"STATEFIP\", \"YEAR\", maintain_order=True).agg(\n",
    "    mean_occscore=pl.col(\"OCCSCORE\").mean()\n",
    ").with_columns(a=1).with_columns(b=pl.col(\"a\") + 1).collect()"
   ]
  },
  {
   "cell_type": "code",
   "execution_count": null,
   "metadata": {},
   "outputs": [],
   "source": [
    "# Use expressions in other contexts, such as filter()\n",
    "ipums_alabama.filter(pl.col(\"OCCSCORE\") >= pl.col(\"OCCSCORE\").mean()).collect()"
   ]
  },
  {
   "cell_type": "code",
   "execution_count": null,
   "metadata": {},
   "outputs": [],
   "source": [
    "ipums_alabama.filter(\n",
    "    (pl.col(\"OCCSCORE\") >= pl.col(\"OCCSCORE\").mean().over(\"YEAR\"))\n",
    ").collect()"
   ]
  },
  {
   "cell_type": "code",
   "execution_count": null,
   "metadata": {},
   "outputs": [],
   "source": [
    "ipums_alabama.filter(\n",
    "    (pl.col(\"OCCSCORE\") >= pl.col(\"OCCSCORE\").mean().over(\"YEAR\"))\n",
    ").collect().write_parquet(\"data_ipums/alabama.parquet\")"
   ]
  },
  {
   "cell_type": "code",
   "execution_count": null,
   "metadata": {},
   "outputs": [],
   "source": [
    "# Create a custom function to standardize numeric variables\n",
    "def standardize(x) -> pl.Expr:\n",
    "    # The \"return\" keywords has to be specified (contrarily to R)\n",
    "    return ((x - x.mean()) / x.std()).over(\"YEAR\")\n",
    "\n",
    "\n",
    "ipums_alabama.with_columns(occscore_stand=standardize(pl.col(\"OCCSCORE\"))).collect()"
   ]
  },
  {
   "cell_type": "code",
   "execution_count": null,
   "metadata": {},
   "outputs": [],
   "source": [
    "# Last resort if no function in polars library and cannot write your own function\n",
    "# that returns a Polars expression: use map_batches() / map_elements()\n",
    "\n",
    "ipums_alabama.with_columns(\n",
    "    occscore_stand=pl.col(\"OCCSCORE\")\n",
    "    .map_batches(lambda x: (x - x.mean()) / x.std())\n",
    "    .over(\"YEAR\")\n",
    ").collect()"
   ]
  }
 ],
 "metadata": {
  "kernelspec": {
   "display_name": ".venv",
   "language": "python",
   "name": "python3"
  },
  "language_info": {
   "codemirror_mode": {
    "name": "ipython",
    "version": 3
   },
   "file_extension": ".py",
   "mimetype": "text/x-python",
   "name": "python",
   "nbconvert_exporter": "python",
   "pygments_lexer": "ipython3",
   "version": "3.11.12"
  }
 },
 "nbformat": 4,
 "nbformat_minor": 2
}
